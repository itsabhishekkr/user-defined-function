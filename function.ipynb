{
 "cells": [
  {
   "cell_type": "markdown",
   "id": "9faa0029",
   "metadata": {},
   "source": [
    "# factorial"
   ]
  },
  {
   "cell_type": "code",
   "execution_count": 4,
   "id": "c118f361",
   "metadata": {},
   "outputs": [
    {
     "name": "stdout",
     "output_type": "stream",
     "text": [
      "4\n",
      "24\n"
     ]
    }
   ],
   "source": [
    "n=int(input())\n",
    "n_fact=1\n",
    "for i in range(1,n+1):\n",
    "    n_fact=n_fact*i\n",
    "print(n_fact)"
   ]
  },
  {
   "cell_type": "code",
   "execution_count": 9,
   "id": "09cdc763",
   "metadata": {},
   "outputs": [
    {
     "name": "stdout",
     "output_type": "stream",
     "text": [
      "24\n"
     ]
    }
   ],
   "source": [
    "def fact(n):\n",
    "    n_fact=1\n",
    "    for i in range(1,n+1):\n",
    "        n_fact=n_fact*i\n",
    "    return(n_fact)\n",
    "print(fact(4))\n"
   ]
  },
  {
   "cell_type": "markdown",
   "id": "dd414d8a",
   "metadata": {},
   "source": [
    "# combination"
   ]
  },
  {
   "cell_type": "code",
   "execution_count": 8,
   "id": "7a2ddc71",
   "metadata": {},
   "outputs": [
    {
     "name": "stdout",
     "output_type": "stream",
     "text": [
      "input n number4\n",
      "input r number2\n",
      "24\n",
      "2\n",
      "2\n",
      "6\n"
     ]
    }
   ],
   "source": [
    "n=int(input(\"input n number\"))\n",
    "r=int(input(\"input r number\"))\n",
    "n_fact=1\n",
    "r_fact=1\n",
    "nr_fact=1\n",
    "for i in range(1,n+1):\n",
    "    n_fact=n_fact*i\n",
    "print(n_fact)\n",
    "for i in range(1,r+1):\n",
    "    r_fact=r_fact*i\n",
    "print(r_fact)\n",
    "for i in range(1,n-r+1):\n",
    "    nr_fact=nr_fact*i\n",
    "print(nr_fact)\n",
    "comb=n_fact/(r_fact*nr_fact)\n",
    "print(int(comb))\n",
    "    \n",
    "    "
   ]
  },
  {
   "cell_type": "code",
   "execution_count": 19,
   "id": "43ad27c3",
   "metadata": {},
   "outputs": [
    {
     "name": "stdout",
     "output_type": "stream",
     "text": [
      "input n4\n",
      "input r2\n",
      "6\n"
     ]
    }
   ],
   "source": [
    "def fact(o):\n",
    "    o_fact=1\n",
    "    for i in range(1,o+1):\n",
    "        o_fact=o_fact*i\n",
    "    return(o_fact)\n",
    "n=int(input(\"input n\"))\n",
    "r=int(input(\"input r\"))\n",
    "n_fact=fact(n)\n",
    "r_fact=fact(r)\n",
    "nr_fact=fact(n-r)\n",
    "com=(n_fact)/(nr_fact*r_fact)\n",
    "print(int(com))\n"
   ]
  },
  {
   "cell_type": "markdown",
   "id": "92ae9f1e",
   "metadata": {},
   "source": [
    "# permutation"
   ]
  },
  {
   "cell_type": "code",
   "execution_count": 6,
   "id": "f339b8bd",
   "metadata": {},
   "outputs": [
    {
     "name": "stdout",
     "output_type": "stream",
     "text": [
      "input n number4\n",
      "input r number2\n",
      "2\n",
      "12.0\n"
     ]
    }
   ],
   "source": [
    "n=int(input(\"input n number\"))\n",
    "r=int(input(\"input r number\"))\n",
    "n_fact=1\n",
    "r_fact=1\n",
    "nr_fact=1\n",
    "for i in range(1,n+1):\n",
    "    n_fact=n_fact*i\n",
    "for i in range(1,n-r+1):\n",
    "    nr_fact=nr_fact*i\n",
    "print(nr_fact)\n",
    "per=n_fact/(nr_fact)\n",
    "print(per)"
   ]
  },
  {
   "cell_type": "code",
   "execution_count": 23,
   "id": "9fb63b0a",
   "metadata": {},
   "outputs": [
    {
     "name": "stdout",
     "output_type": "stream",
     "text": [
      "enter n4\n",
      "enter r2\n",
      "permutation 12\n"
     ]
    }
   ],
   "source": [
    "def ram(p):\n",
    "    p_fact=1\n",
    "    for i in range(1,p+1):\n",
    "        p_fact=p_fact*i\n",
    "    return(p_fact)\n",
    "n=int(input(\"enter n\"))\n",
    "r=int(input(\"enter r\"))\n",
    "n_fact=ram(n)\n",
    "nr_fact=ram(n-r)\n",
    "per=n_fact//nr_fact\n",
    "print(\"permutation\", per)\n",
    "        "
   ]
  },
  {
   "cell_type": "markdown",
   "id": "7eb8b765",
   "metadata": {},
   "source": [
    "# normal or List"
   ]
  },
  {
   "cell_type": "code",
   "execution_count": 25,
   "id": "e45a5365",
   "metadata": {},
   "outputs": [
    {
     "name": "stdout",
     "output_type": "stream",
     "text": [
      "10\n"
     ]
    }
   ],
   "source": [
    "def increment(i):\n",
    "    i=i+1\n",
    "k=10\n",
    "increment(k)\n",
    "print(k)"
   ]
  },
  {
   "cell_type": "code",
   "execution_count": 7,
   "id": "c582101f",
   "metadata": {},
   "outputs": [
    {
     "name": "stdout",
     "output_type": "stream",
     "text": [
      "10\n"
     ]
    }
   ],
   "source": [
    "def increment(i):\n",
    "    i=i+1\n",
    "    return(i)\n",
    "k=10\n",
    "increment(k)\n",
    "print(k)"
   ]
  },
  {
   "cell_type": "code",
   "execution_count": 30,
   "id": "cdd450e1",
   "metadata": {},
   "outputs": [
    {
     "name": "stdout",
     "output_type": "stream",
     "text": [
      "[3, 3, 5, 6]\n"
     ]
    }
   ],
   "source": [
    "def increment_list_first(l):\n",
    "    l[0]=l[0]+1\n",
    "a=[2,3,5,6]\n",
    "increment_list_first(a)\n",
    "print(a)\n"
   ]
  },
  {
   "cell_type": "code",
   "execution_count": 31,
   "id": "535752a0",
   "metadata": {},
   "outputs": [
    {
     "name": "stdout",
     "output_type": "stream",
     "text": [
      "[3, 3, 5, 6]\n"
     ]
    }
   ],
   "source": [
    "def increment_list_first(l):\n",
    "    l[0]=l[0]+1\n",
    "    return(l)\n",
    "a=[2,3,5,6]\n",
    "increment_list_first(a)\n",
    "print(a)"
   ]
  },
  {
   "cell_type": "code",
   "execution_count": 33,
   "id": "183aa0a9",
   "metadata": {},
   "outputs": [
    {
     "name": "stdout",
     "output_type": "stream",
     "text": [
      "[2, 3, 5, 6]\n"
     ]
    }
   ],
   "source": [
    "def increment_list_first(l):\n",
    "    l=[4,5,7,8,8,0]\n",
    "    return(l)\n",
    "a=[2,3,5,6]\n",
    "increment_list_first(a)\n",
    "print(a)"
   ]
  },
  {
   "cell_type": "markdown",
   "id": "97a519ab",
   "metadata": {},
   "source": [
    "# string"
   ]
  },
  {
   "cell_type": "code",
   "execution_count": 34,
   "id": "b1b34ba8",
   "metadata": {},
   "outputs": [
    {
     "name": "stdout",
     "output_type": "stream",
     "text": [
      "klm\n"
     ]
    }
   ],
   "source": [
    "def change_str(b):#string is unmutable\n",
    "    b=\"abc\"\n",
    "a=\"klm\"\n",
    "change_str(a)\n",
    "print(a)"
   ]
  },
  {
   "cell_type": "code",
   "execution_count": 36,
   "id": "9f0c3d6d",
   "metadata": {},
   "outputs": [
    {
     "name": "stdout",
     "output_type": "stream",
     "text": [
      "[10, 9, 8, 7, 6, 5, 4, 3, 2, 1]\n"
     ]
    }
   ],
   "source": [
    "def create_rev_array(n):\n",
    "    l=[]\n",
    "    for i in range(n,0,-1):\n",
    "        l.append(i)          #[i for i in range(n,0,-1)]\n",
    "    return(l)\n",
    "a=create_rev_array(10)\n",
    "print(a)"
   ]
  },
  {
   "cell_type": "markdown",
   "id": "4b964d49",
   "metadata": {},
   "source": [
    "# swap alternate"
   ]
  },
  {
   "cell_type": "code",
   "execution_count": 6,
   "id": "8c82c5f1",
   "metadata": {},
   "outputs": [
    {
     "name": "stdout",
     "output_type": "stream",
     "text": [
      "[3, 2, 6, 3, 7]\n"
     ]
    }
   ],
   "source": [
    "def swap_consecutive(l):\n",
    "    i=0\n",
    "    while(i+1<len(l)):\n",
    "        a=l[i]\n",
    "        l[i]=l[i+1]\n",
    "        l[i+1]=a\n",
    "        \n",
    "        \n",
    "#         l[i],l[i+1]=l[i+1],l[i]\n",
    "        i=i+2\n",
    "a=[2,3,3,6,7]\n",
    "swap_consecutive(a)\n",
    "print(a)"
   ]
  },
  {
   "cell_type": "markdown",
   "id": "b532a911",
   "metadata": {},
   "source": [
    "# scope of variables\n",
    "## 1.Local variable-define inside function\n",
    "## 2. global variable-define out side function"
   ]
  },
  {
   "cell_type": "code",
   "execution_count": 9,
   "id": "70090e95",
   "metadata": {},
   "outputs": [
    {
     "name": "stdout",
     "output_type": "stream",
     "text": [
      "10\n",
      "12\n"
     ]
    },
    {
     "ename": "NameError",
     "evalue": "name 'b1' is not defined",
     "output_type": "error",
     "traceback": [
      "\u001b[1;31m---------------------------------------------------------------------------\u001b[0m",
      "\u001b[1;31mNameError\u001b[0m                                 Traceback (most recent call last)",
      "Cell \u001b[1;32mIn[9], line 7\u001b[0m\n\u001b[0;32m      5\u001b[0m \u001b[38;5;28mprint\u001b[39m(a1)\n\u001b[0;32m      6\u001b[0m f1()\n\u001b[1;32m----> 7\u001b[0m \u001b[38;5;28mprint\u001b[39m(\u001b[43mb1\u001b[49m)\n",
      "\u001b[1;31mNameError\u001b[0m: name 'b1' is not defined"
     ]
    }
   ],
   "source": [
    "a1=10\n",
    "def f1():\n",
    "    b1=12#local variable\n",
    "    print(b1)\n",
    "print(a1)\n",
    "f1()\n",
    "print(b1)#error due to not return value or can not print a local var.outside the funtion"
   ]
  },
  {
   "cell_type": "code",
   "execution_count": 10,
   "id": "bfde0df3",
   "metadata": {},
   "outputs": [
    {
     "name": "stdout",
     "output_type": "stream",
     "text": [
      "10\n",
      "12\n",
      "10\n"
     ]
    }
   ],
   "source": [
    "a1=10\n",
    "def f1():\n",
    "    b1=12#local variable\n",
    "    print(b1)#local variable\n",
    "    print(a1)# we can print global variable into inside the function.\n",
    "print(a1)\n",
    "f1()"
   ]
  },
  {
   "cell_type": "code",
   "execution_count": 11,
   "id": "c4bd8a9d",
   "metadata": {},
   "outputs": [
    {
     "name": "stdout",
     "output_type": "stream",
     "text": [
      "10\n",
      "12\n",
      "10\n"
     ]
    },
    {
     "ename": "NameError",
     "evalue": "name 'c1' is not defined",
     "output_type": "error",
     "traceback": [
      "\u001b[1;31m---------------------------------------------------------------------------\u001b[0m",
      "\u001b[1;31mNameError\u001b[0m                                 Traceback (most recent call last)",
      "Cell \u001b[1;32mIn[11], line 8\u001b[0m\n\u001b[0;32m      6\u001b[0m     \u001b[38;5;28mprint\u001b[39m(c1)\u001b[38;5;66;03m#\u001b[39;00m\n\u001b[0;32m      7\u001b[0m \u001b[38;5;28mprint\u001b[39m(a1)\n\u001b[1;32m----> 8\u001b[0m \u001b[43mf1\u001b[49m\u001b[43m(\u001b[49m\u001b[43m)\u001b[49m\n\u001b[0;32m      9\u001b[0m c1\u001b[38;5;241m=\u001b[39m\u001b[38;5;241m10\u001b[39m\n",
      "Cell \u001b[1;32mIn[11], line 6\u001b[0m, in \u001b[0;36mf1\u001b[1;34m()\u001b[0m\n\u001b[0;32m      4\u001b[0m \u001b[38;5;28mprint\u001b[39m(b1)\u001b[38;5;66;03m#local variable\u001b[39;00m\n\u001b[0;32m      5\u001b[0m \u001b[38;5;28mprint\u001b[39m(a1)\u001b[38;5;66;03m# we can print global variable into inside the function.\u001b[39;00m\n\u001b[1;32m----> 6\u001b[0m \u001b[38;5;28mprint\u001b[39m(\u001b[43mc1\u001b[49m)\n",
      "\u001b[1;31mNameError\u001b[0m: name 'c1' is not defined"
     ]
    }
   ],
   "source": [
    "a1=10\n",
    "def f1():\n",
    "    b1=12#local variable\n",
    "    print(b1)#local variable\n",
    "    print(a1)# we can print global variable into inside the function.\n",
    "    print(c1)# error due to befor calling f1() c1 value does not exist.\n",
    "print(a1)\n",
    "f1()\n",
    "c1=10"
   ]
  },
  {
   "cell_type": "markdown",
   "id": "b29fb404",
   "metadata": {},
   "source": [
    "## in local function - a1 identify as seprate value\n",
    "## but in globle identyfy as seprate value"
   ]
  },
  {
   "cell_type": "code",
   "execution_count": 15,
   "id": "e2b4cf2e",
   "metadata": {},
   "outputs": [
    {
     "name": "stdout",
     "output_type": "stream",
     "text": [
      "10\n",
      "13\n",
      "2238069539440\n",
      "10\n",
      "2238069539344\n"
     ]
    }
   ],
   "source": [
    "a1=10\n",
    "def f1():\n",
    "    a1=13\n",
    "    print(a1)#identyfy as seprate value as local a1\n",
    "    print(id(a1))\n",
    "print(a1)#identfy as seprate globle value\n",
    "f1()\n",
    "print(a1)\n",
    "print(id(a1))"
   ]
  },
  {
   "cell_type": "markdown",
   "id": "8def64ea",
   "metadata": {},
   "source": [
    "## how to use global value in local function"
   ]
  },
  {
   "cell_type": "code",
   "execution_count": 16,
   "id": "78c2fa64",
   "metadata": {},
   "outputs": [
    {
     "name": "stdout",
     "output_type": "stream",
     "text": [
      "13\n",
      "18\n",
      "2238069539600\n",
      "18\n",
      "2238069539600\n"
     ]
    }
   ],
   "source": [
    "a4=13\n",
    "def f4():\n",
    "    global a4\n",
    "    a4=18\n",
    "    print(a4)\n",
    "    print(id(a4))\n",
    "print(a4)\n",
    "f4()\n",
    "print(a4)\n",
    "print(id(a4))"
   ]
  },
  {
   "cell_type": "code",
   "execution_count": 17,
   "id": "27ae5f6f",
   "metadata": {},
   "outputs": [
    {
     "name": "stdout",
     "output_type": "stream",
     "text": [
      "13\n",
      "18\n",
      "2238069539600\n",
      "13\n",
      "2238069539440\n"
     ]
    }
   ],
   "source": [
    "a4=13\n",
    "def f4():\n",
    "    a4=18\n",
    "    print(a4)\n",
    "    print(id(a4))\n",
    "    return(a4)\n",
    "print(a4)\n",
    "f4()\n",
    "print(a4)\n",
    "print(id(a4))"
   ]
  },
  {
   "cell_type": "code",
   "execution_count": 20,
   "id": "dc8cbd3c",
   "metadata": {},
   "outputs": [
    {
     "name": "stdout",
     "output_type": "stream",
     "text": [
      "10\n"
     ]
    }
   ],
   "source": [
    "def f():\n",
    "    b=10\n",
    "    return(b)\n",
    "x=f()\n",
    "print(x)"
   ]
  },
  {
   "cell_type": "code",
   "execution_count": 21,
   "id": "d6511e48",
   "metadata": {},
   "outputs": [
    {
     "name": "stdout",
     "output_type": "stream",
     "text": [
      "20\n"
     ]
    }
   ],
   "source": [
    "b=20\n",
    "def f():\n",
    "    b=10\n",
    "    return(b)\n",
    "f()\n",
    "print(b)"
   ]
  },
  {
   "cell_type": "markdown",
   "id": "7cc6975a",
   "metadata": {},
   "source": [
    "## default parameter in function"
   ]
  },
  {
   "cell_type": "code",
   "execution_count": 24,
   "id": "121a33cb",
   "metadata": {},
   "outputs": [
    {
     "name": "stdout",
     "output_type": "stream",
     "text": [
      "4\n",
      "9\n",
      "0\n",
      "7\n"
     ]
    }
   ],
   "source": [
    "def sum(a,b,c=0):\n",
    "    print(c)\n",
    "    return(a+b+c)\n",
    "print(sum(2,3,4))#c in this conditon taken as 4 insted of c=0\n",
    "print(sum(3,4))# c autometicaly take c=0"
   ]
  },
  {
   "cell_type": "markdown",
   "id": "fabf1ad5",
   "metadata": {},
   "source": [
    "## Default argument is last(b,c,a=0)\n",
    "### undefault argument is first(b,c)"
   ]
  },
  {
   "cell_type": "code",
   "execution_count": 26,
   "id": "e16d4f18",
   "metadata": {
    "scrolled": true
   },
   "outputs": [
    {
     "ename": "SyntaxError",
     "evalue": "non-default argument follows default argument (2806948600.py, line 1)",
     "output_type": "error",
     "traceback": [
      "\u001b[1;36m  Cell \u001b[1;32mIn[26], line 1\u001b[1;36m\u001b[0m\n\u001b[1;33m    def sum(a=0,b,c):\u001b[0m\n\u001b[1;37m                ^\u001b[0m\n\u001b[1;31mSyntaxError\u001b[0m\u001b[1;31m:\u001b[0m non-default argument follows default argument\n"
     ]
    }
   ],
   "source": [
    "def sum(a=0,b,c):\n",
    "    return(a+b+c)\n",
    "print(sum(2,3,4))#c in this conditon taken as 4 insted of c=0\n",
    "#print(sum(3,4))"
   ]
  },
  {
   "cell_type": "code",
   "execution_count": 29,
   "id": "97ccbe40",
   "metadata": {},
   "outputs": [
    {
     "name": "stdout",
     "output_type": "stream",
     "text": [
      "14\n",
      "17\n",
      "19\n",
      "27\n"
     ]
    }
   ],
   "source": [
    "def f1(a,b,c=2,d=10):\n",
    "    return(a+b+c+d)\n",
    "print(f1(2,3,4,5))\n",
    "print(f1(2,3))\n",
    "print(f1(2,3,4))#autometic take d=10\n",
    "print(f1(2,3,d=20))#2+3+2(c)+20"
   ]
  },
  {
   "cell_type": "code",
   "execution_count": null,
   "id": "a476d7c8",
   "metadata": {},
   "outputs": [],
   "source": []
  }
 ],
 "metadata": {
  "kernelspec": {
   "display_name": "Python 3 (ipykernel)",
   "language": "python",
   "name": "python3"
  },
  "language_info": {
   "codemirror_mode": {
    "name": "ipython",
    "version": 3
   },
   "file_extension": ".py",
   "mimetype": "text/x-python",
   "name": "python",
   "nbconvert_exporter": "python",
   "pygments_lexer": "ipython3",
   "version": "3.10.9"
  }
 },
 "nbformat": 4,
 "nbformat_minor": 5
}
